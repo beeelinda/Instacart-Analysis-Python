{
 "cells": [
  {
   "cell_type": "markdown",
   "id": "2d472208",
   "metadata": {},
   "source": [
    "# Table of Contents\n",
    "#### 1. Importing Libraries\n",
    "#### 2. Importing Data\n",
    "#### 3. Question 2: consider any security implications that might exist\n",
    "#### 4. Question 3: Create regions\n",
    "#### 5. Question 4: Create an exclusion flag for low-activity customers and exclude them from the data\n",
    "#### 6. Question 5: Create a profiling variable based on age, income, certain goods in the 'department_id' column, and number of dependents\n",
    "#### 6.1 Creating age flag\n",
    "#### 6.2 Creating an income flag"
   ]
  },
  {
   "cell_type": "markdown",
   "id": "8d102d3d",
   "metadata": {},
   "source": [
    "## 1. Importing Libraries"
   ]
  },
  {
   "cell_type": "code",
   "execution_count": 2,
   "id": "77f56934",
   "metadata": {},
   "outputs": [],
   "source": [
    "import pandas as pd\n",
    "import numpy as np\n",
    "import os"
   ]
  },
  {
   "cell_type": "markdown",
   "id": "e30e6867",
   "metadata": {},
   "source": [
    "## 2. Importing Data"
   ]
  },
  {
   "cell_type": "code",
   "execution_count": 3,
   "id": "d0342c5d",
   "metadata": {},
   "outputs": [],
   "source": [
    "path = r'C:\\Users\\bees\\Instacart Basket Analysis'"
   ]
  },
  {
   "cell_type": "code",
   "execution_count": 4,
   "id": "dea45ae1",
   "metadata": {},
   "outputs": [],
   "source": [
    "ords_prods_cust = pd.read_pickle(os.path.join(path, '02 Data', 'Prepared Data', 'orders_products_customers_combined.pkl'))"
   ]
  },
  {
   "cell_type": "markdown",
   "id": "4661db01",
   "metadata": {},
   "source": [
    "## 3. Question 2:\n",
    "#### Consider any security implications that might exist for this new data"
   ]
  },
  {
   "cell_type": "code",
   "execution_count": 5,
   "id": "e4fb03fd",
   "metadata": {},
   "outputs": [
    {
     "data": {
      "text/html": [
       "<div>\n",
       "<style scoped>\n",
       "    .dataframe tbody tr th:only-of-type {\n",
       "        vertical-align: middle;\n",
       "    }\n",
       "\n",
       "    .dataframe tbody tr th {\n",
       "        vertical-align: top;\n",
       "    }\n",
       "\n",
       "    .dataframe thead th {\n",
       "        text-align: right;\n",
       "    }\n",
       "</style>\n",
       "<table border=\"1\" class=\"dataframe\">\n",
       "  <thead>\n",
       "    <tr style=\"text-align: right;\">\n",
       "      <th></th>\n",
       "      <th>order_id</th>\n",
       "      <th>user_id</th>\n",
       "      <th>order_number</th>\n",
       "      <th>orders_day_of_week</th>\n",
       "      <th>order_hour_of_day</th>\n",
       "      <th>days_since_prior_order</th>\n",
       "      <th>product_id</th>\n",
       "      <th>add_to_cart_order</th>\n",
       "      <th>reordered</th>\n",
       "      <th>product_name</th>\n",
       "      <th>...</th>\n",
       "      <th>order_frequency_flag</th>\n",
       "      <th>first_name</th>\n",
       "      <th>last_name</th>\n",
       "      <th>gender</th>\n",
       "      <th>state</th>\n",
       "      <th>age</th>\n",
       "      <th>date_joined</th>\n",
       "      <th>number_of_dependants</th>\n",
       "      <th>marital_status</th>\n",
       "      <th>income</th>\n",
       "    </tr>\n",
       "  </thead>\n",
       "  <tbody>\n",
       "    <tr>\n",
       "      <th>0</th>\n",
       "      <td>2539329</td>\n",
       "      <td>1</td>\n",
       "      <td>1</td>\n",
       "      <td>2</td>\n",
       "      <td>8</td>\n",
       "      <td>NaN</td>\n",
       "      <td>196</td>\n",
       "      <td>1</td>\n",
       "      <td>0</td>\n",
       "      <td>Soda</td>\n",
       "      <td>...</td>\n",
       "      <td>Non-frequent customer</td>\n",
       "      <td>Linda</td>\n",
       "      <td>Nguyen</td>\n",
       "      <td>Female</td>\n",
       "      <td>Alabama</td>\n",
       "      <td>31</td>\n",
       "      <td>2/17/2019</td>\n",
       "      <td>3</td>\n",
       "      <td>married</td>\n",
       "      <td>40423</td>\n",
       "    </tr>\n",
       "    <tr>\n",
       "      <th>1</th>\n",
       "      <td>2398795</td>\n",
       "      <td>1</td>\n",
       "      <td>2</td>\n",
       "      <td>3</td>\n",
       "      <td>7</td>\n",
       "      <td>15.0</td>\n",
       "      <td>196</td>\n",
       "      <td>1</td>\n",
       "      <td>1</td>\n",
       "      <td>Soda</td>\n",
       "      <td>...</td>\n",
       "      <td>Non-frequent customer</td>\n",
       "      <td>Linda</td>\n",
       "      <td>Nguyen</td>\n",
       "      <td>Female</td>\n",
       "      <td>Alabama</td>\n",
       "      <td>31</td>\n",
       "      <td>2/17/2019</td>\n",
       "      <td>3</td>\n",
       "      <td>married</td>\n",
       "      <td>40423</td>\n",
       "    </tr>\n",
       "    <tr>\n",
       "      <th>2</th>\n",
       "      <td>473747</td>\n",
       "      <td>1</td>\n",
       "      <td>3</td>\n",
       "      <td>3</td>\n",
       "      <td>12</td>\n",
       "      <td>21.0</td>\n",
       "      <td>196</td>\n",
       "      <td>1</td>\n",
       "      <td>1</td>\n",
       "      <td>Soda</td>\n",
       "      <td>...</td>\n",
       "      <td>Non-frequent customer</td>\n",
       "      <td>Linda</td>\n",
       "      <td>Nguyen</td>\n",
       "      <td>Female</td>\n",
       "      <td>Alabama</td>\n",
       "      <td>31</td>\n",
       "      <td>2/17/2019</td>\n",
       "      <td>3</td>\n",
       "      <td>married</td>\n",
       "      <td>40423</td>\n",
       "    </tr>\n",
       "    <tr>\n",
       "      <th>3</th>\n",
       "      <td>2254736</td>\n",
       "      <td>1</td>\n",
       "      <td>4</td>\n",
       "      <td>4</td>\n",
       "      <td>7</td>\n",
       "      <td>29.0</td>\n",
       "      <td>196</td>\n",
       "      <td>1</td>\n",
       "      <td>1</td>\n",
       "      <td>Soda</td>\n",
       "      <td>...</td>\n",
       "      <td>Non-frequent customer</td>\n",
       "      <td>Linda</td>\n",
       "      <td>Nguyen</td>\n",
       "      <td>Female</td>\n",
       "      <td>Alabama</td>\n",
       "      <td>31</td>\n",
       "      <td>2/17/2019</td>\n",
       "      <td>3</td>\n",
       "      <td>married</td>\n",
       "      <td>40423</td>\n",
       "    </tr>\n",
       "    <tr>\n",
       "      <th>4</th>\n",
       "      <td>431534</td>\n",
       "      <td>1</td>\n",
       "      <td>5</td>\n",
       "      <td>4</td>\n",
       "      <td>15</td>\n",
       "      <td>28.0</td>\n",
       "      <td>196</td>\n",
       "      <td>1</td>\n",
       "      <td>1</td>\n",
       "      <td>Soda</td>\n",
       "      <td>...</td>\n",
       "      <td>Non-frequent customer</td>\n",
       "      <td>Linda</td>\n",
       "      <td>Nguyen</td>\n",
       "      <td>Female</td>\n",
       "      <td>Alabama</td>\n",
       "      <td>31</td>\n",
       "      <td>2/17/2019</td>\n",
       "      <td>3</td>\n",
       "      <td>married</td>\n",
       "      <td>40423</td>\n",
       "    </tr>\n",
       "  </tbody>\n",
       "</table>\n",
       "<p>5 rows × 31 columns</p>\n",
       "</div>"
      ],
      "text/plain": [
       "   order_id user_id  order_number  orders_day_of_week  order_hour_of_day  \\\n",
       "0   2539329       1             1                   2                  8   \n",
       "1   2398795       1             2                   3                  7   \n",
       "2    473747       1             3                   3                 12   \n",
       "3   2254736       1             4                   4                  7   \n",
       "4    431534       1             5                   4                 15   \n",
       "\n",
       "   days_since_prior_order  product_id  add_to_cart_order  reordered  \\\n",
       "0                     NaN         196                  1          0   \n",
       "1                    15.0         196                  1          1   \n",
       "2                    21.0         196                  1          1   \n",
       "3                    29.0         196                  1          1   \n",
       "4                    28.0         196                  1          1   \n",
       "\n",
       "  product_name  ...   order_frequency_flag  first_name  last_name  gender  \\\n",
       "0         Soda  ...  Non-frequent customer       Linda     Nguyen  Female   \n",
       "1         Soda  ...  Non-frequent customer       Linda     Nguyen  Female   \n",
       "2         Soda  ...  Non-frequent customer       Linda     Nguyen  Female   \n",
       "3         Soda  ...  Non-frequent customer       Linda     Nguyen  Female   \n",
       "4         Soda  ...  Non-frequent customer       Linda     Nguyen  Female   \n",
       "\n",
       "     state age  date_joined number_of_dependants  marital_status income  \n",
       "0  Alabama  31    2/17/2019                    3         married  40423  \n",
       "1  Alabama  31    2/17/2019                    3         married  40423  \n",
       "2  Alabama  31    2/17/2019                    3         married  40423  \n",
       "3  Alabama  31    2/17/2019                    3         married  40423  \n",
       "4  Alabama  31    2/17/2019                    3         married  40423  \n",
       "\n",
       "[5 rows x 31 columns]"
      ]
     },
     "execution_count": 5,
     "metadata": {},
     "output_type": "execute_result"
    }
   ],
   "source": [
    "ords_prods_cust.head()"
   ]
  },
  {
   "cell_type": "code",
   "execution_count": 6,
   "id": "431481cf",
   "metadata": {},
   "outputs": [],
   "source": [
    "# dropping the first_name and last_name columns\n",
    "ords_prods_cust = ords_prods_cust.drop(columns = ['first_name', 'last_name'])"
   ]
  },
  {
   "cell_type": "code",
   "execution_count": 7,
   "id": "79121f3d",
   "metadata": {},
   "outputs": [
    {
     "data": {
      "text/html": [
       "<div>\n",
       "<style scoped>\n",
       "    .dataframe tbody tr th:only-of-type {\n",
       "        vertical-align: middle;\n",
       "    }\n",
       "\n",
       "    .dataframe tbody tr th {\n",
       "        vertical-align: top;\n",
       "    }\n",
       "\n",
       "    .dataframe thead th {\n",
       "        text-align: right;\n",
       "    }\n",
       "</style>\n",
       "<table border=\"1\" class=\"dataframe\">\n",
       "  <thead>\n",
       "    <tr style=\"text-align: right;\">\n",
       "      <th></th>\n",
       "      <th>order_id</th>\n",
       "      <th>user_id</th>\n",
       "      <th>order_number</th>\n",
       "      <th>orders_day_of_week</th>\n",
       "      <th>order_hour_of_day</th>\n",
       "      <th>days_since_prior_order</th>\n",
       "      <th>product_id</th>\n",
       "      <th>add_to_cart_order</th>\n",
       "      <th>reordered</th>\n",
       "      <th>product_name</th>\n",
       "      <th>...</th>\n",
       "      <th>spending_flag</th>\n",
       "      <th>median_order</th>\n",
       "      <th>order_frequency_flag</th>\n",
       "      <th>gender</th>\n",
       "      <th>state</th>\n",
       "      <th>age</th>\n",
       "      <th>date_joined</th>\n",
       "      <th>number_of_dependants</th>\n",
       "      <th>marital_status</th>\n",
       "      <th>income</th>\n",
       "    </tr>\n",
       "  </thead>\n",
       "  <tbody>\n",
       "    <tr>\n",
       "      <th>0</th>\n",
       "      <td>2539329</td>\n",
       "      <td>1</td>\n",
       "      <td>1</td>\n",
       "      <td>2</td>\n",
       "      <td>8</td>\n",
       "      <td>NaN</td>\n",
       "      <td>196</td>\n",
       "      <td>1</td>\n",
       "      <td>0</td>\n",
       "      <td>Soda</td>\n",
       "      <td>...</td>\n",
       "      <td>Low spender</td>\n",
       "      <td>20.5</td>\n",
       "      <td>Non-frequent customer</td>\n",
       "      <td>Female</td>\n",
       "      <td>Alabama</td>\n",
       "      <td>31</td>\n",
       "      <td>2/17/2019</td>\n",
       "      <td>3</td>\n",
       "      <td>married</td>\n",
       "      <td>40423</td>\n",
       "    </tr>\n",
       "    <tr>\n",
       "      <th>1</th>\n",
       "      <td>2398795</td>\n",
       "      <td>1</td>\n",
       "      <td>2</td>\n",
       "      <td>3</td>\n",
       "      <td>7</td>\n",
       "      <td>15.0</td>\n",
       "      <td>196</td>\n",
       "      <td>1</td>\n",
       "      <td>1</td>\n",
       "      <td>Soda</td>\n",
       "      <td>...</td>\n",
       "      <td>Low spender</td>\n",
       "      <td>20.5</td>\n",
       "      <td>Non-frequent customer</td>\n",
       "      <td>Female</td>\n",
       "      <td>Alabama</td>\n",
       "      <td>31</td>\n",
       "      <td>2/17/2019</td>\n",
       "      <td>3</td>\n",
       "      <td>married</td>\n",
       "      <td>40423</td>\n",
       "    </tr>\n",
       "    <tr>\n",
       "      <th>2</th>\n",
       "      <td>473747</td>\n",
       "      <td>1</td>\n",
       "      <td>3</td>\n",
       "      <td>3</td>\n",
       "      <td>12</td>\n",
       "      <td>21.0</td>\n",
       "      <td>196</td>\n",
       "      <td>1</td>\n",
       "      <td>1</td>\n",
       "      <td>Soda</td>\n",
       "      <td>...</td>\n",
       "      <td>Low spender</td>\n",
       "      <td>20.5</td>\n",
       "      <td>Non-frequent customer</td>\n",
       "      <td>Female</td>\n",
       "      <td>Alabama</td>\n",
       "      <td>31</td>\n",
       "      <td>2/17/2019</td>\n",
       "      <td>3</td>\n",
       "      <td>married</td>\n",
       "      <td>40423</td>\n",
       "    </tr>\n",
       "    <tr>\n",
       "      <th>3</th>\n",
       "      <td>2254736</td>\n",
       "      <td>1</td>\n",
       "      <td>4</td>\n",
       "      <td>4</td>\n",
       "      <td>7</td>\n",
       "      <td>29.0</td>\n",
       "      <td>196</td>\n",
       "      <td>1</td>\n",
       "      <td>1</td>\n",
       "      <td>Soda</td>\n",
       "      <td>...</td>\n",
       "      <td>Low spender</td>\n",
       "      <td>20.5</td>\n",
       "      <td>Non-frequent customer</td>\n",
       "      <td>Female</td>\n",
       "      <td>Alabama</td>\n",
       "      <td>31</td>\n",
       "      <td>2/17/2019</td>\n",
       "      <td>3</td>\n",
       "      <td>married</td>\n",
       "      <td>40423</td>\n",
       "    </tr>\n",
       "    <tr>\n",
       "      <th>4</th>\n",
       "      <td>431534</td>\n",
       "      <td>1</td>\n",
       "      <td>5</td>\n",
       "      <td>4</td>\n",
       "      <td>15</td>\n",
       "      <td>28.0</td>\n",
       "      <td>196</td>\n",
       "      <td>1</td>\n",
       "      <td>1</td>\n",
       "      <td>Soda</td>\n",
       "      <td>...</td>\n",
       "      <td>Low spender</td>\n",
       "      <td>20.5</td>\n",
       "      <td>Non-frequent customer</td>\n",
       "      <td>Female</td>\n",
       "      <td>Alabama</td>\n",
       "      <td>31</td>\n",
       "      <td>2/17/2019</td>\n",
       "      <td>3</td>\n",
       "      <td>married</td>\n",
       "      <td>40423</td>\n",
       "    </tr>\n",
       "  </tbody>\n",
       "</table>\n",
       "<p>5 rows × 29 columns</p>\n",
       "</div>"
      ],
      "text/plain": [
       "   order_id user_id  order_number  orders_day_of_week  order_hour_of_day  \\\n",
       "0   2539329       1             1                   2                  8   \n",
       "1   2398795       1             2                   3                  7   \n",
       "2    473747       1             3                   3                 12   \n",
       "3   2254736       1             4                   4                  7   \n",
       "4    431534       1             5                   4                 15   \n",
       "\n",
       "   days_since_prior_order  product_id  add_to_cart_order  reordered  \\\n",
       "0                     NaN         196                  1          0   \n",
       "1                    15.0         196                  1          1   \n",
       "2                    21.0         196                  1          1   \n",
       "3                    29.0         196                  1          1   \n",
       "4                    28.0         196                  1          1   \n",
       "\n",
       "  product_name  ...  spending_flag  median_order   order_frequency_flag  \\\n",
       "0         Soda  ...    Low spender          20.5  Non-frequent customer   \n",
       "1         Soda  ...    Low spender          20.5  Non-frequent customer   \n",
       "2         Soda  ...    Low spender          20.5  Non-frequent customer   \n",
       "3         Soda  ...    Low spender          20.5  Non-frequent customer   \n",
       "4         Soda  ...    Low spender          20.5  Non-frequent customer   \n",
       "\n",
       "   gender    state age  date_joined number_of_dependants  marital_status  \\\n",
       "0  Female  Alabama  31    2/17/2019                    3         married   \n",
       "1  Female  Alabama  31    2/17/2019                    3         married   \n",
       "2  Female  Alabama  31    2/17/2019                    3         married   \n",
       "3  Female  Alabama  31    2/17/2019                    3         married   \n",
       "4  Female  Alabama  31    2/17/2019                    3         married   \n",
       "\n",
       "  income  \n",
       "0  40423  \n",
       "1  40423  \n",
       "2  40423  \n",
       "3  40423  \n",
       "4  40423  \n",
       "\n",
       "[5 rows x 29 columns]"
      ]
     },
     "execution_count": 7,
     "metadata": {},
     "output_type": "execute_result"
    }
   ],
   "source": [
    "ords_prods_cust.head()"
   ]
  },
  {
   "cell_type": "code",
   "execution_count": 8,
   "id": "9d44228d",
   "metadata": {},
   "outputs": [],
   "source": [
    "pd.set_option('display.max_columns', None)"
   ]
  },
  {
   "cell_type": "markdown",
   "id": "6356d269",
   "metadata": {},
   "source": [
    "## 4. Question 3:\n",
    "#### Create a regional segmentation of the data"
   ]
  },
  {
   "cell_type": "code",
   "execution_count": 9,
   "id": "92e47e4f",
   "metadata": {},
   "outputs": [],
   "source": [
    "# creating regions\n",
    "Northeast = ['Maine', 'New Hampshire', 'Vermont', 'Massachusetts', 'Rhode Island', 'Connecticut', 'New York', 'Pennsylvania', 'New Jersey']\n",
    "Midwest = ['Wisconsin', 'Michigan', 'Illinois', 'Indiana', 'Ohio', 'North Dakota', 'South Dakota', 'Nebraska', 'Kansas', 'Minnesota', 'Iowa', 'Missouri']\n",
    "South = ['Delaware', 'Maryland', 'District of Columbia', 'Virginia', 'West Virginia', 'North Carolina', 'South Carolina', 'Georgia', 'Florida', 'Kentucky', 'Tennessee', 'Mississippi', 'Alabama', 'Oklahoma', 'Texas', 'Arkansas', 'Louisiana']\n",
    "West = ['Idaho', 'Montana', 'Wyoming', 'Nevada', 'Utah', 'Colorado', 'Arizona', 'New Mexico', 'Alaska', 'Washington', 'Oregon', 'California', 'Hawaii']"
   ]
  },
  {
   "cell_type": "code",
   "execution_count": 10,
   "id": "bb1e8059",
   "metadata": {},
   "outputs": [],
   "source": [
    "# creating column with the regions\n",
    "ords_prods_cust.loc[ords_prods_cust['state'].isin(Northeast), 'region'] = 'Northeast'\n",
    "ords_prods_cust.loc[ords_prods_cust['state'].isin(Midwest), 'region'] = 'Midwest'\n",
    "ords_prods_cust.loc[ords_prods_cust['state'].isin(South), 'region'] = 'South'\n",
    "ords_prods_cust.loc[ords_prods_cust['state'].isin(West), 'region'] = 'West'"
   ]
  },
  {
   "cell_type": "code",
   "execution_count": 11,
   "id": "22655c27",
   "metadata": {},
   "outputs": [
    {
     "data": {
      "text/plain": [
       "region\n",
       "South        10791885\n",
       "West          8292913\n",
       "Midwest       7597325\n",
       "Northeast     5722736\n",
       "Name: count, dtype: int64"
      ]
     },
     "execution_count": 11,
     "metadata": {},
     "output_type": "execute_result"
    }
   ],
   "source": [
    "ords_prods_cust['region'].value_counts(dropna = False)"
   ]
  },
  {
   "cell_type": "code",
   "execution_count": 12,
   "id": "7aa3c046",
   "metadata": {},
   "outputs": [],
   "source": [
    "# creating a crosstab between spending_flag and the different regions\n",
    "crosstab = pd.crosstab(ords_prods_cust['region'], ords_prods_cust['spending_flag'], dropna = False)"
   ]
  },
  {
   "cell_type": "code",
   "execution_count": 13,
   "id": "e8cb1beb",
   "metadata": {},
   "outputs": [
    {
     "data": {
      "text/html": [
       "<div>\n",
       "<style scoped>\n",
       "    .dataframe tbody tr th:only-of-type {\n",
       "        vertical-align: middle;\n",
       "    }\n",
       "\n",
       "    .dataframe tbody tr th {\n",
       "        vertical-align: top;\n",
       "    }\n",
       "\n",
       "    .dataframe thead th {\n",
       "        text-align: right;\n",
       "    }\n",
       "</style>\n",
       "<table border=\"1\" class=\"dataframe\">\n",
       "  <thead>\n",
       "    <tr style=\"text-align: right;\">\n",
       "      <th>spending_flag</th>\n",
       "      <th>High spender</th>\n",
       "      <th>Low spender</th>\n",
       "    </tr>\n",
       "    <tr>\n",
       "      <th>region</th>\n",
       "      <th></th>\n",
       "      <th></th>\n",
       "    </tr>\n",
       "  </thead>\n",
       "  <tbody>\n",
       "    <tr>\n",
       "      <th>Midwest</th>\n",
       "      <td>155975</td>\n",
       "      <td>7441350</td>\n",
       "    </tr>\n",
       "    <tr>\n",
       "      <th>Northeast</th>\n",
       "      <td>108225</td>\n",
       "      <td>5614511</td>\n",
       "    </tr>\n",
       "    <tr>\n",
       "      <th>South</th>\n",
       "      <td>209691</td>\n",
       "      <td>10582194</td>\n",
       "    </tr>\n",
       "    <tr>\n",
       "      <th>West</th>\n",
       "      <td>160354</td>\n",
       "      <td>8132559</td>\n",
       "    </tr>\n",
       "  </tbody>\n",
       "</table>\n",
       "</div>"
      ],
      "text/plain": [
       "spending_flag  High spender  Low spender\n",
       "region                                  \n",
       "Midwest              155975      7441350\n",
       "Northeast            108225      5614511\n",
       "South                209691     10582194\n",
       "West                 160354      8132559"
      ]
     },
     "execution_count": 13,
     "metadata": {},
     "output_type": "execute_result"
    }
   ],
   "source": [
    "crosstab"
   ]
  },
  {
   "cell_type": "markdown",
   "id": "c4efd288",
   "metadata": {},
   "source": [
    "## 5. Question 4\n",
    "#### Create an exclusion flag for low-activity customers and exclude them from the data"
   ]
  },
  {
   "cell_type": "code",
   "execution_count": 14,
   "id": "595ca54b",
   "metadata": {},
   "outputs": [],
   "source": [
    "# creating exclusion flag for customers with less than 5 orders\n",
    "ords_prods_cust.loc[ords_prods_cust['max_order'] < 5, 'customer_activity'] = 'low activity customer'"
   ]
  },
  {
   "cell_type": "code",
   "execution_count": 15,
   "id": "b7042fb7",
   "metadata": {},
   "outputs": [],
   "source": [
    "# creating flag for customers with more than 5 orders\n",
    "ords_prods_cust.loc[ords_prods_cust['max_order'] >= 5, 'customer_activity'] = 'active customer'"
   ]
  },
  {
   "cell_type": "code",
   "execution_count": 16,
   "id": "0511213a",
   "metadata": {},
   "outputs": [
    {
     "data": {
      "text/plain": [
       "customer_activity\n",
       "active customer          30964564\n",
       "low activity customer     1440295\n",
       "Name: count, dtype: int64"
      ]
     },
     "execution_count": 16,
     "metadata": {},
     "output_type": "execute_result"
    }
   ],
   "source": [
    "ords_prods_cust['customer_activity'].value_counts(dropna = False)"
   ]
  },
  {
   "cell_type": "code",
   "execution_count": 17,
   "id": "4ff9d29e",
   "metadata": {},
   "outputs": [],
   "source": [
    "# creating subset of low activity customers\n",
    "df_low_activity = ords_prods_cust.loc[ords_prods_cust['customer_activity'] == 'low activity customer']"
   ]
  },
  {
   "cell_type": "code",
   "execution_count": 18,
   "id": "2a0aacc6",
   "metadata": {},
   "outputs": [
    {
     "data": {
      "text/html": [
       "<div>\n",
       "<style scoped>\n",
       "    .dataframe tbody tr th:only-of-type {\n",
       "        vertical-align: middle;\n",
       "    }\n",
       "\n",
       "    .dataframe tbody tr th {\n",
       "        vertical-align: top;\n",
       "    }\n",
       "\n",
       "    .dataframe thead th {\n",
       "        text-align: right;\n",
       "    }\n",
       "</style>\n",
       "<table border=\"1\" class=\"dataframe\">\n",
       "  <thead>\n",
       "    <tr style=\"text-align: right;\">\n",
       "      <th></th>\n",
       "      <th>order_id</th>\n",
       "      <th>user_id</th>\n",
       "      <th>order_number</th>\n",
       "      <th>orders_day_of_week</th>\n",
       "      <th>order_hour_of_day</th>\n",
       "      <th>days_since_prior_order</th>\n",
       "      <th>product_id</th>\n",
       "      <th>add_to_cart_order</th>\n",
       "      <th>reordered</th>\n",
       "      <th>product_name</th>\n",
       "      <th>aisle_id</th>\n",
       "      <th>department_id</th>\n",
       "      <th>prices</th>\n",
       "      <th>price_label</th>\n",
       "      <th>busiest_day</th>\n",
       "      <th>busiest_period_of_day</th>\n",
       "      <th>max_order</th>\n",
       "      <th>loyalty_flag</th>\n",
       "      <th>mean_order</th>\n",
       "      <th>spending_flag</th>\n",
       "      <th>median_order</th>\n",
       "      <th>order_frequency_flag</th>\n",
       "      <th>gender</th>\n",
       "      <th>state</th>\n",
       "      <th>age</th>\n",
       "      <th>date_joined</th>\n",
       "      <th>number_of_dependants</th>\n",
       "      <th>marital_status</th>\n",
       "      <th>income</th>\n",
       "      <th>region</th>\n",
       "      <th>customer_activity</th>\n",
       "    </tr>\n",
       "  </thead>\n",
       "  <tbody>\n",
       "    <tr>\n",
       "      <th>1510</th>\n",
       "      <td>520620</td>\n",
       "      <td>120</td>\n",
       "      <td>1</td>\n",
       "      <td>3</td>\n",
       "      <td>11</td>\n",
       "      <td>NaN</td>\n",
       "      <td>196</td>\n",
       "      <td>2</td>\n",
       "      <td>0</td>\n",
       "      <td>Soda</td>\n",
       "      <td>77</td>\n",
       "      <td>7</td>\n",
       "      <td>9.0</td>\n",
       "      <td>Mid-range product</td>\n",
       "      <td>Slowest days</td>\n",
       "      <td>Most orders</td>\n",
       "      <td>3</td>\n",
       "      <td>New customer</td>\n",
       "      <td>9.385714</td>\n",
       "      <td>Low spender</td>\n",
       "      <td>19.0</td>\n",
       "      <td>Regular customer</td>\n",
       "      <td>Female</td>\n",
       "      <td>Kentucky</td>\n",
       "      <td>54</td>\n",
       "      <td>3/2/2017</td>\n",
       "      <td>2</td>\n",
       "      <td>married</td>\n",
       "      <td>99219</td>\n",
       "      <td>South</td>\n",
       "      <td>low activity customer</td>\n",
       "    </tr>\n",
       "    <tr>\n",
       "      <th>1511</th>\n",
       "      <td>3273029</td>\n",
       "      <td>120</td>\n",
       "      <td>3</td>\n",
       "      <td>2</td>\n",
       "      <td>8</td>\n",
       "      <td>19.0</td>\n",
       "      <td>196</td>\n",
       "      <td>2</td>\n",
       "      <td>1</td>\n",
       "      <td>Soda</td>\n",
       "      <td>77</td>\n",
       "      <td>7</td>\n",
       "      <td>9.0</td>\n",
       "      <td>Mid-range product</td>\n",
       "      <td>Regularly busy</td>\n",
       "      <td>Average orders</td>\n",
       "      <td>3</td>\n",
       "      <td>New customer</td>\n",
       "      <td>9.385714</td>\n",
       "      <td>Low spender</td>\n",
       "      <td>19.0</td>\n",
       "      <td>Regular customer</td>\n",
       "      <td>Female</td>\n",
       "      <td>Kentucky</td>\n",
       "      <td>54</td>\n",
       "      <td>3/2/2017</td>\n",
       "      <td>2</td>\n",
       "      <td>married</td>\n",
       "      <td>99219</td>\n",
       "      <td>South</td>\n",
       "      <td>low activity customer</td>\n",
       "    </tr>\n",
       "    <tr>\n",
       "      <th>1512</th>\n",
       "      <td>520620</td>\n",
       "      <td>120</td>\n",
       "      <td>1</td>\n",
       "      <td>3</td>\n",
       "      <td>11</td>\n",
       "      <td>NaN</td>\n",
       "      <td>46149</td>\n",
       "      <td>1</td>\n",
       "      <td>0</td>\n",
       "      <td>Zero Calorie Cola</td>\n",
       "      <td>77</td>\n",
       "      <td>7</td>\n",
       "      <td>13.4</td>\n",
       "      <td>Mid-range product</td>\n",
       "      <td>Slowest days</td>\n",
       "      <td>Most orders</td>\n",
       "      <td>3</td>\n",
       "      <td>New customer</td>\n",
       "      <td>9.385714</td>\n",
       "      <td>Low spender</td>\n",
       "      <td>19.0</td>\n",
       "      <td>Regular customer</td>\n",
       "      <td>Female</td>\n",
       "      <td>Kentucky</td>\n",
       "      <td>54</td>\n",
       "      <td>3/2/2017</td>\n",
       "      <td>2</td>\n",
       "      <td>married</td>\n",
       "      <td>99219</td>\n",
       "      <td>South</td>\n",
       "      <td>low activity customer</td>\n",
       "    </tr>\n",
       "    <tr>\n",
       "      <th>1513</th>\n",
       "      <td>3273029</td>\n",
       "      <td>120</td>\n",
       "      <td>3</td>\n",
       "      <td>2</td>\n",
       "      <td>8</td>\n",
       "      <td>19.0</td>\n",
       "      <td>46149</td>\n",
       "      <td>1</td>\n",
       "      <td>1</td>\n",
       "      <td>Zero Calorie Cola</td>\n",
       "      <td>77</td>\n",
       "      <td>7</td>\n",
       "      <td>13.4</td>\n",
       "      <td>Mid-range product</td>\n",
       "      <td>Regularly busy</td>\n",
       "      <td>Average orders</td>\n",
       "      <td>3</td>\n",
       "      <td>New customer</td>\n",
       "      <td>9.385714</td>\n",
       "      <td>Low spender</td>\n",
       "      <td>19.0</td>\n",
       "      <td>Regular customer</td>\n",
       "      <td>Female</td>\n",
       "      <td>Kentucky</td>\n",
       "      <td>54</td>\n",
       "      <td>3/2/2017</td>\n",
       "      <td>2</td>\n",
       "      <td>married</td>\n",
       "      <td>99219</td>\n",
       "      <td>South</td>\n",
       "      <td>low activity customer</td>\n",
       "    </tr>\n",
       "    <tr>\n",
       "      <th>1514</th>\n",
       "      <td>520620</td>\n",
       "      <td>120</td>\n",
       "      <td>1</td>\n",
       "      <td>3</td>\n",
       "      <td>11</td>\n",
       "      <td>NaN</td>\n",
       "      <td>26348</td>\n",
       "      <td>3</td>\n",
       "      <td>0</td>\n",
       "      <td>Mixed Fruit Fruit Snacks</td>\n",
       "      <td>50</td>\n",
       "      <td>19</td>\n",
       "      <td>3.1</td>\n",
       "      <td>Low-range product</td>\n",
       "      <td>Slowest days</td>\n",
       "      <td>Most orders</td>\n",
       "      <td>3</td>\n",
       "      <td>New customer</td>\n",
       "      <td>9.385714</td>\n",
       "      <td>Low spender</td>\n",
       "      <td>19.0</td>\n",
       "      <td>Regular customer</td>\n",
       "      <td>Female</td>\n",
       "      <td>Kentucky</td>\n",
       "      <td>54</td>\n",
       "      <td>3/2/2017</td>\n",
       "      <td>2</td>\n",
       "      <td>married</td>\n",
       "      <td>99219</td>\n",
       "      <td>South</td>\n",
       "      <td>low activity customer</td>\n",
       "    </tr>\n",
       "  </tbody>\n",
       "</table>\n",
       "</div>"
      ],
      "text/plain": [
       "      order_id user_id  order_number  orders_day_of_week  order_hour_of_day  \\\n",
       "1510    520620     120             1                   3                 11   \n",
       "1511   3273029     120             3                   2                  8   \n",
       "1512    520620     120             1                   3                 11   \n",
       "1513   3273029     120             3                   2                  8   \n",
       "1514    520620     120             1                   3                 11   \n",
       "\n",
       "      days_since_prior_order  product_id  add_to_cart_order  reordered  \\\n",
       "1510                     NaN         196                  2          0   \n",
       "1511                    19.0         196                  2          1   \n",
       "1512                     NaN       46149                  1          0   \n",
       "1513                    19.0       46149                  1          1   \n",
       "1514                     NaN       26348                  3          0   \n",
       "\n",
       "                  product_name  aisle_id  department_id  prices  \\\n",
       "1510                      Soda        77              7     9.0   \n",
       "1511                      Soda        77              7     9.0   \n",
       "1512         Zero Calorie Cola        77              7    13.4   \n",
       "1513         Zero Calorie Cola        77              7    13.4   \n",
       "1514  Mixed Fruit Fruit Snacks        50             19     3.1   \n",
       "\n",
       "            price_label     busiest_day busiest_period_of_day  max_order  \\\n",
       "1510  Mid-range product    Slowest days           Most orders          3   \n",
       "1511  Mid-range product  Regularly busy        Average orders          3   \n",
       "1512  Mid-range product    Slowest days           Most orders          3   \n",
       "1513  Mid-range product  Regularly busy        Average orders          3   \n",
       "1514  Low-range product    Slowest days           Most orders          3   \n",
       "\n",
       "      loyalty_flag  mean_order spending_flag  median_order  \\\n",
       "1510  New customer    9.385714   Low spender          19.0   \n",
       "1511  New customer    9.385714   Low spender          19.0   \n",
       "1512  New customer    9.385714   Low spender          19.0   \n",
       "1513  New customer    9.385714   Low spender          19.0   \n",
       "1514  New customer    9.385714   Low spender          19.0   \n",
       "\n",
       "     order_frequency_flag  gender     state  age date_joined  \\\n",
       "1510     Regular customer  Female  Kentucky   54    3/2/2017   \n",
       "1511     Regular customer  Female  Kentucky   54    3/2/2017   \n",
       "1512     Regular customer  Female  Kentucky   54    3/2/2017   \n",
       "1513     Regular customer  Female  Kentucky   54    3/2/2017   \n",
       "1514     Regular customer  Female  Kentucky   54    3/2/2017   \n",
       "\n",
       "      number_of_dependants marital_status  income region  \\\n",
       "1510                     2        married   99219  South   \n",
       "1511                     2        married   99219  South   \n",
       "1512                     2        married   99219  South   \n",
       "1513                     2        married   99219  South   \n",
       "1514                     2        married   99219  South   \n",
       "\n",
       "          customer_activity  \n",
       "1510  low activity customer  \n",
       "1511  low activity customer  \n",
       "1512  low activity customer  \n",
       "1513  low activity customer  \n",
       "1514  low activity customer  "
      ]
     },
     "execution_count": 18,
     "metadata": {},
     "output_type": "execute_result"
    }
   ],
   "source": [
    "df_low_activity.head()"
   ]
  },
  {
   "cell_type": "code",
   "execution_count": 19,
   "id": "de6657af",
   "metadata": {},
   "outputs": [],
   "source": [
    "# exporting low activity df\n",
    "df_low_activity.to_pickle(os.path.join(path, '02 Data', 'Prepared Data', 'low_activity_customers.pkl'))"
   ]
  },
  {
   "cell_type": "code",
   "execution_count": 20,
   "id": "338382de",
   "metadata": {},
   "outputs": [],
   "source": [
    "# creating active customers subset\n",
    "df_active_customers = ords_prods_cust.loc[ords_prods_cust['customer_activity'] == 'active customer']"
   ]
  },
  {
   "cell_type": "code",
   "execution_count": 21,
   "id": "4a2704cc",
   "metadata": {},
   "outputs": [
    {
     "data": {
      "text/plain": [
       "(1440295, 31)"
      ]
     },
     "execution_count": 21,
     "metadata": {},
     "output_type": "execute_result"
    }
   ],
   "source": [
    "df_low_activity.shape"
   ]
  },
  {
   "cell_type": "code",
   "execution_count": 22,
   "id": "38616fd6",
   "metadata": {},
   "outputs": [
    {
     "data": {
      "text/plain": [
       "(30964564, 31)"
      ]
     },
     "execution_count": 22,
     "metadata": {},
     "output_type": "execute_result"
    }
   ],
   "source": [
    "df_active_customers.shape"
   ]
  },
  {
   "cell_type": "code",
   "execution_count": 23,
   "id": "0c5f18ee",
   "metadata": {},
   "outputs": [],
   "source": [
    "#exporting active customers df\n",
    "df_active_customers.to_pickle(os.path.join(path, '02 Data', 'Prepared Data', 'high_activity_customers.pkl'))"
   ]
  },
  {
   "cell_type": "markdown",
   "id": "68c1efaf",
   "metadata": {},
   "source": [
    "## 6. Question 5:\n",
    "#### Create a profiling variable based on age, income, certain goods in the 'department_id' column, and number of dependents"
   ]
  },
  {
   "cell_type": "markdown",
   "id": "ffee2cc0",
   "metadata": {},
   "source": [
    "## 6.1 Creating age flag"
   ]
  },
  {
   "cell_type": "code",
   "execution_count": 24,
   "id": "65e0075d",
   "metadata": {},
   "outputs": [
    {
     "data": {
      "text/plain": [
       "count    3.096456e+07\n",
       "mean     4.946803e+01\n",
       "std      1.848528e+01\n",
       "min      1.800000e+01\n",
       "25%      3.300000e+01\n",
       "50%      4.900000e+01\n",
       "75%      6.500000e+01\n",
       "max      8.100000e+01\n",
       "Name: age, dtype: float64"
      ]
     },
     "execution_count": 24,
     "metadata": {},
     "output_type": "execute_result"
    }
   ],
   "source": [
    "df_active_customers['age'].describe()"
   ]
  },
  {
   "cell_type": "markdown",
   "id": "0d4b1272",
   "metadata": {},
   "source": [
    "the minimum age in the active customers df is 18, with the max age being 81, and the average age is 49. Creating age groups (18-29, 30-49, and 50-81 years old)"
   ]
  },
  {
   "cell_type": "code",
   "execution_count": 25,
   "id": "11599cd9",
   "metadata": {},
   "outputs": [
    {
     "name": "stderr",
     "output_type": "stream",
     "text": [
      "C:\\Users\\Bees\\AppData\\Local\\Temp\\ipykernel_9232\\3676541435.py:2: SettingWithCopyWarning: \n",
      "A value is trying to be set on a copy of a slice from a DataFrame.\n",
      "Try using .loc[row_indexer,col_indexer] = value instead\n",
      "\n",
      "See the caveats in the documentation: https://pandas.pydata.org/pandas-docs/stable/user_guide/indexing.html#returning-a-view-versus-a-copy\n",
      "  df_active_customers.loc[(df_active_customers['age'] >= 18) & (df_active_customers['age'] <=29), 'age_flag'] = '18-29 years old'\n"
     ]
    }
   ],
   "source": [
    "# creating 18-29 flag\n",
    "df_active_customers.loc[(df_active_customers['age'] >= 18) & (df_active_customers['age'] <=29), 'age_flag'] = '18-29 years old'"
   ]
  },
  {
   "cell_type": "code",
   "execution_count": 26,
   "id": "518bacdd",
   "metadata": {},
   "outputs": [],
   "source": [
    "# creating 30-49 flag\n",
    "df_active_customers.loc[(df_active_customers['age'] >= 30) & (df_active_customers['age'] <= 49), 'age_flag'] = '30-49 years old'"
   ]
  },
  {
   "cell_type": "code",
   "execution_count": 27,
   "id": "dc267ccc",
   "metadata": {},
   "outputs": [],
   "source": [
    "# creating 50-81 flag\n",
    "df_active_customers.loc[(df_active_customers['age'] >= 50) & (df_active_customers['age'] <= 81), 'age_flag'] = '50-81 years old'"
   ]
  },
  {
   "cell_type": "code",
   "execution_count": 28,
   "id": "bf927cf5",
   "metadata": {},
   "outputs": [
    {
     "data": {
      "text/plain": [
       "age_flag\n",
       "18-29 years old     5817603\n",
       "30-49 years old     9730686\n",
       "50-81 years old    15416275\n",
       "Name: count, dtype: int64"
      ]
     },
     "execution_count": 28,
     "metadata": {},
     "output_type": "execute_result"
    }
   ],
   "source": [
    "# checking the flag\n",
    "df_active_customers['age_flag'].value_counts().sort_index()"
   ]
  },
  {
   "cell_type": "markdown",
   "id": "14fe09da",
   "metadata": {},
   "source": [
    "## 6.2 Creating income flag"
   ]
  },
  {
   "cell_type": "code",
   "execution_count": 29,
   "id": "e0f7662a",
   "metadata": {},
   "outputs": [
    {
     "data": {
      "text/plain": [
       "count    3.096456e+07\n",
       "mean     9.967587e+04\n",
       "std      4.314187e+04\n",
       "min      2.590300e+04\n",
       "25%      6.729200e+04\n",
       "50%      9.676500e+04\n",
       "75%      1.281020e+05\n",
       "max      5.939010e+05\n",
       "Name: income, dtype: float64"
      ]
     },
     "execution_count": 29,
     "metadata": {},
     "output_type": "execute_result"
    }
   ],
   "source": [
    "# checking income stats\n",
    "df_active_customers['income'].describe()"
   ]
  },
  {
   "cell_type": "markdown",
   "id": "e9263751",
   "metadata": {},
   "source": [
    "creating three groups, a low income (under 65000), middle income(65000-120000), and high income (over 120000) based on the stats"
   ]
  },
  {
   "cell_type": "code",
   "execution_count": 30,
   "id": "aa83aa1d",
   "metadata": {
    "scrolled": true
   },
   "outputs": [
    {
     "name": "stderr",
     "output_type": "stream",
     "text": [
      "C:\\Users\\Bees\\AppData\\Local\\Temp\\ipykernel_9232\\2479129378.py:2: SettingWithCopyWarning: \n",
      "A value is trying to be set on a copy of a slice from a DataFrame.\n",
      "Try using .loc[row_indexer,col_indexer] = value instead\n",
      "\n",
      "See the caveats in the documentation: https://pandas.pydata.org/pandas-docs/stable/user_guide/indexing.html#returning-a-view-versus-a-copy\n",
      "  df_active_customers.loc[df_active_customers['income'] <= 65000, 'income_flag'] = 'Low income'\n"
     ]
    }
   ],
   "source": [
    "# creating low income flag \n",
    "df_active_customers.loc[df_active_customers['income'] <= 65000, 'income_flag'] = 'Low income'"
   ]
  },
  {
   "cell_type": "code",
   "execution_count": 31,
   "id": "cfc6238d",
   "metadata": {},
   "outputs": [],
   "source": [
    "# creating middle income flag\n",
    "df_active_customers.loc[(df_active_customers['income'] > 65000) & (df_active_customers['income'] <= 120000), 'income_flag'] = 'Middle income'"
   ]
  },
  {
   "cell_type": "code",
   "execution_count": 32,
   "id": "9352a4d2",
   "metadata": {},
   "outputs": [],
   "source": [
    "# creating high income flag\n",
    "df_active_customers.loc[df_active_customers['income'] > 120000, 'income_flag'] = 'High income'"
   ]
  },
  {
   "cell_type": "code",
   "execution_count": 33,
   "id": "bce2e11c",
   "metadata": {},
   "outputs": [
    {
     "data": {
      "text/plain": [
       "income_flag\n",
       "High income       9179513\n",
       "Low income        7107837\n",
       "Middle income    14677214\n",
       "Name: count, dtype: int64"
      ]
     },
     "execution_count": 33,
     "metadata": {},
     "output_type": "execute_result"
    }
   ],
   "source": [
    "# checking the flag\n",
    "df_active_customers['income_flag'].value_counts().sort_index()"
   ]
  },
  {
   "cell_type": "code",
   "execution_count": 34,
   "id": "dca7444a",
   "metadata": {},
   "outputs": [],
   "source": [
    "# exporting to continue in second notebook\n",
    "df_active_customers.to_pickle(os.path.join(path, '02 Data', 'Prepared Data', 'df_active_customers.pkl'))"
   ]
  },
  {
   "cell_type": "markdown",
   "id": "488e6cac",
   "metadata": {},
   "source": [
    "### continued on 4.10 IC Coding Etiquette part 2 "
   ]
  },
  {
   "cell_type": "code",
   "execution_count": null,
   "id": "004f4db0",
   "metadata": {},
   "outputs": [],
   "source": []
  }
 ],
 "metadata": {
  "kernelspec": {
   "display_name": "Python 3 (ipykernel)",
   "language": "python",
   "name": "python3"
  },
  "language_info": {
   "codemirror_mode": {
    "name": "ipython",
    "version": 3
   },
   "file_extension": ".py",
   "mimetype": "text/x-python",
   "name": "python",
   "nbconvert_exporter": "python",
   "pygments_lexer": "ipython3",
   "version": "3.11.4"
  }
 },
 "nbformat": 4,
 "nbformat_minor": 5
}
